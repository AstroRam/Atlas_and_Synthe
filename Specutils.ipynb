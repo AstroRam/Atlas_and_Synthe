{
 "cells": [
  {
   "cell_type": "code",
   "execution_count": 1,
   "metadata": {},
   "outputs": [],
   "source": [
    "import numpy as np\n",
    "from astropy.modeling import models\n",
    "import astropy.units as u\n",
    "from specutils import Spectrum1D, SpectralRegion"
   ]
  },
  {
   "cell_type": "code",
   "execution_count": 7,
   "metadata": {},
   "outputs": [],
   "source": [
    "np.random.seed(42)\n",
    "g1 = models.Gaussian1D(1, 4.6, 0.2)\n",
    "g2 = models.Gaussian1D(2.5, 5.5, 0.1)\n",
    "g3 = models.Gaussian1D(-1.7, 8.2, 0.1)\n",
    "x = np.linspace(0, 10, 200)\n",
    "y = g1(x) + g2(x) + g3(x) + np.random.normal(0., 0.3, x.shape)\n",
    "spectrum = Spectrum1D(flux=y*u.Jy, spectral_axis=x*u.um)"
   ]
  },
  {
   "cell_type": "code",
   "execution_count": 2,
   "metadata": {},
   "outputs": [
    {
     "name": "stdout",
     "output_type": "stream",
     "text": [
      "Requirement already satisfied: specutils in /home/ram/snap/jupyter/common/lib/python3.7/site-packages (1.1.1)\n",
      "Requirement already satisfied: asdf>=2.5 in /home/ram/snap/jupyter/common/lib/python3.7/site-packages (from specutils) (2.7.2)\n",
      "Requirement already satisfied: gwcs>=0.12 in /home/ram/snap/jupyter/common/lib/python3.7/site-packages (from specutils) (0.16.1)\n",
      "Requirement already satisfied: scipy in /home/ram/snap/jupyter/common/lib/python3.7/site-packages (from specutils) (1.6.0)\n",
      "Requirement already satisfied: astropy>=4.0 in /home/ram/snap/jupyter/common/lib/python3.7/site-packages (from specutils) (4.2)\n",
      "Requirement already satisfied: jsonschema<4,>=3.0.2 in /home/ram/snap/jupyter/common/lib/python3.7/site-packages (from asdf>=2.5->specutils) (3.2.0)\n",
      "Requirement already satisfied: numpy>=1.10 in /home/ram/snap/jupyter/common/lib/python3.7/site-packages (from asdf>=2.5->specutils) (1.19.5)\n",
      "Requirement already satisfied: semantic-version>=2.8 in /home/ram/snap/jupyter/common/lib/python3.7/site-packages (from asdf>=2.5->specutils) (2.8.5)\n",
      "Requirement already satisfied: pyyaml>=3.10 in /home/ram/snap/jupyter/common/lib/python3.7/site-packages (from asdf>=2.5->specutils) (5.4.1)\n",
      "Requirement already satisfied: pyerfa in /home/ram/snap/jupyter/common/lib/python3.7/site-packages (from astropy>=4.0->specutils) (1.7.1.1)\n",
      "Requirement already satisfied: pyrsistent>=0.14.0 in /snap/jupyter/6/lib/python3.7/site-packages (from jsonschema<4,>=3.0.2->asdf>=2.5->specutils) (0.15.2)\n",
      "Requirement already satisfied: attrs>=17.4.0 in /snap/jupyter/6/lib/python3.7/site-packages (from jsonschema<4,>=3.0.2->asdf>=2.5->specutils) (19.1.0)\n",
      "Requirement already satisfied: importlib-metadata; python_version < \"3.8\" in /home/ram/snap/jupyter/common/lib/python3.7/site-packages (from jsonschema<4,>=3.0.2->asdf>=2.5->specutils) (3.4.0)\n",
      "Requirement already satisfied: six>=1.11.0 in /snap/jupyter/6/lib/python3.7/site-packages (from jsonschema<4,>=3.0.2->asdf>=2.5->specutils) (1.12.0)\n",
      "Requirement already satisfied: setuptools in /snap/jupyter/6/lib/python3.7/site-packages (from jsonschema<4,>=3.0.2->asdf>=2.5->specutils) (41.0.1)\n",
      "Requirement already satisfied: zipp>=0.5 in /home/ram/snap/jupyter/common/lib/python3.7/site-packages (from importlib-metadata; python_version < \"3.8\"->jsonschema<4,>=3.0.2->asdf>=2.5->specutils) (3.4.0)\n",
      "Requirement already satisfied: typing-extensions>=3.6.4; python_version < \"3.8\" in /home/ram/snap/jupyter/common/lib/python3.7/site-packages (from importlib-metadata; python_version < \"3.8\"->jsonschema<4,>=3.0.2->asdf>=2.5->specutils) (3.7.4.3)\n",
      "Note: you may need to restart the kernel to use updated packages.\n"
     ]
    }
   ],
   "source": [
    "pip install specutils\n"
   ]
  },
  {
   "cell_type": "code",
   "execution_count": 8,
   "metadata": {},
   "outputs": [
    {
     "data": {
      "image/png": "[encoded data removed]",
      "text/plain": [
       "<Figure size 432x288 with 1 Axes>"
      ]
     },
     "metadata": {
      "needs_background": "light"
     },
     "output_type": "display_data"
    }
   ],
   "source": [
    "from matplotlib import pyplot as plt\n",
    "plt.plot(spectrum.spectral_axis, spectrum.flux) \n",
    "plt.xlabel('Spectral Axis ({})'.format(spectrum.spectral_axis.unit)) \n",
    "plt.ylabel('Flux Axis({})'.format(spectrum.flux.unit)) \n",
    "plt.grid(True) "
   ]
  },
  {
   "cell_type": "code",
   "execution_count": 11,
   "metadata": {},
   "outputs": [],
   "source": [
    "#Find_lines_threshold"
   ]
  },
  {
   "cell_type": "code",
   "execution_count": 17,
   "metadata": {},
   "outputs": [
    {
     "name": "stderr",
     "output_type": "stream",
     "text": [
      "WARNING: Spectrum is not below the threshold signal-to-noise 0.01. This may indicate you have not continuum subtracted this spectrum (or that you have but it has high SNR features).\n",
      "\n",
      "If you want to suppress this warning either type 'specutils.conf.do_continuum_function_check = False' or see http://docs.astropy.org/en/stable/config/#adding-new-configuration-items for other ways to configure the warning. [specutils.analysis.flux]\n",
      "WARNING:astropy:Spectrum is not below the threshold signal-to-noise 0.01. This may indicate you have not continuum subtracted this spectrum (or that you have but it has high SNR features).\n",
      "\n",
      "If you want to suppress this warning either type 'specutils.conf.do_continuum_function_check = False' or see http://docs.astropy.org/en/stable/config/#adding-new-configuration-items for other ways to configure the warning.\n"
     ]
    },
    {
     "data": {
      "text/html": [
       "<i>QTable length=4</i>\n",
       "<table id=\"table140423303602584\" class=\"table-striped table-bordered table-condensed\">\n",
       "<thead><tr><th>line_center</th><th>line_type</th><th>line_center_index</th></tr></thead>\n",
       "<thead><tr><th>um</th><th></th><th></th></tr></thead>\n",
       "<thead><tr><th>float64</th><th>str10</th><th>int64</th></tr></thead>\n",
       "<tr><td>4.572864321608041</td><td>emission</td><td>91</td></tr>\n",
       "<tr><td>4.673366834170855</td><td>emission</td><td>93</td></tr>\n",
       "<tr><td>5.477386934673367</td><td>emission</td><td>109</td></tr>\n",
       "<tr><td>8.99497487437186</td><td>emission</td><td>179</td></tr>\n",
       "</table>"
      ],
      "text/plain": [
       "<QTable length=4>\n",
       "   line_center    line_type line_center_index\n",
       "        um                                   \n",
       "     float64        str10         int64      \n",
       "----------------- --------- -----------------\n",
       "4.572864321608041  emission                91\n",
       "4.673366834170855  emission                93\n",
       "5.477386934673367  emission               109\n",
       " 8.99497487437186  emission               179"
      ]
     },
     "execution_count": 17,
     "metadata": {},
     "output_type": "execute_result"
    }
   ],
   "source": [
    "from specutils.manipulation import noise_region_uncertainty\n",
    "noise_region = SpectralRegion(0*u.um, 3.5*u.um)\n",
    "spectrum = noise_region_uncertainty(spectrum, noise_region)\n",
    "\n",
    "from specutils.fitting import find_lines_threshold\n",
    "lines = find_lines_threshold(spectrum, noise_factor=3)\n",
    "\n",
    "lines[lines['line_type'] == 'emission']  "
   ]
  },
  {
   "cell_type": "code",
   "execution_count": 18,
   "metadata": {},
   "outputs": [
    {
     "data": {
      "text/html": [
       "<i>QTable length=1</i>\n",
       "<table id=\"table140423355423936\" class=\"table-striped table-bordered table-condensed\">\n",
       "<thead><tr><th>line_center</th><th>line_type</th><th>line_center_index</th></tr></thead>\n",
       "<thead><tr><th>um</th><th></th><th></th></tr></thead>\n",
       "<thead><tr><th>float64</th><th>str10</th><th>int64</th></tr></thead>\n",
       "<tr><td>8.190954773869347</td><td>absorption</td><td>163</td></tr>\n",
       "</table>"
      ],
      "text/plain": [
       "<QTable length=1>\n",
       "   line_center    line_type  line_center_index\n",
       "        um                                    \n",
       "     float64        str10          int64      \n",
       "----------------- ---------- -----------------\n",
       "8.190954773869347 absorption               163"
      ]
     },
     "execution_count": 18,
     "metadata": {},
     "output_type": "execute_result"
    }
   ],
   "source": [
    "lines[lines['line_type'] == 'absorption']  \n"
   ]
  },
  {
   "cell_type": "code",
   "execution_count": 19,
   "metadata": {},
   "outputs": [],
   "source": [
    " #find_lines_derivative"
   ]
  },
  {
   "cell_type": "code",
   "execution_count": 20,
   "metadata": {},
   "outputs": [
    {
     "name": "stderr",
     "output_type": "stream",
     "text": [
      "WARNING: Spectrum is not below the threshold signal-to-noise 0.01. This may indicate you have not continuum subtracted this spectrum (or that you have but it has high SNR features).\n",
      "\n",
      "If you want to suppress this warning either type 'specutils.conf.do_continuum_function_check = False' or see http://docs.astropy.org/en/stable/config/#adding-new-configuration-items for other ways to configure the warning. [specutils.analysis.flux]\n",
      "WARNING:astropy:Spectrum is not below the threshold signal-to-noise 0.01. This may indicate you have not continuum subtracted this spectrum (or that you have but it has high SNR features).\n",
      "\n",
      "If you want to suppress this warning either type 'specutils.conf.do_continuum_function_check = False' or see http://docs.astropy.org/en/stable/config/#adding-new-configuration-items for other ways to configure the warning.\n"
     ]
    },
    {
     "data": {
      "text/html": [
       "<i>QTable length=3</i>\n",
       "<table id=\"table140423355783880\" class=\"table-striped table-bordered table-condensed\">\n",
       "<thead><tr><th>line_center</th><th>line_type</th><th>line_center_index</th></tr></thead>\n",
       "<thead><tr><th>um</th><th></th><th></th></tr></thead>\n",
       "<thead><tr><th>float64</th><th>str10</th><th>int64</th></tr></thead>\n",
       "<tr><td>4.472361809045227</td><td>emission</td><td>89</td></tr>\n",
       "<tr><td>5.42713567839196</td><td>emission</td><td>108</td></tr>\n",
       "<tr><td>8.99497487437186</td><td>emission</td><td>179</td></tr>\n",
       "</table>"
      ],
      "text/plain": [
       "<QTable length=3>\n",
       "   line_center    line_type line_center_index\n",
       "        um                                   \n",
       "     float64        str10         int64      \n",
       "----------------- --------- -----------------\n",
       "4.472361809045227  emission                89\n",
       " 5.42713567839196  emission               108\n",
       " 8.99497487437186  emission               179"
      ]
     },
     "execution_count": 20,
     "metadata": {},
     "output_type": "execute_result"
    }
   ],
   "source": [
    "noise_region = SpectralRegion(0*u.um, 3*u.um)\n",
    "from specutils.fitting import find_lines_derivative\n",
    "lines = find_lines_derivative(spectrum, flux_threshold=0.75)\n",
    "lines[lines['line_type'] == 'emission']  \n"
   ]
  },
  {
   "cell_type": "code",
   "execution_count": 21,
   "metadata": {},
   "outputs": [
    {
     "data": {
      "text/html": [
       "<i>QTable length=1</i>\n",
       "<table id=\"table140423293780768\" class=\"table-striped table-bordered table-condensed\">\n",
       "<thead><tr><th>line_center</th><th>line_type</th><th>line_center_index</th></tr></thead>\n",
       "<thead><tr><th>um</th><th></th><th></th></tr></thead>\n",
       "<thead><tr><th>float64</th><th>str10</th><th>int64</th></tr></thead>\n",
       "<tr><td>8.190954773869347</td><td>absorption</td><td>163</td></tr>\n",
       "</table>"
      ],
      "text/plain": [
       "<QTable length=1>\n",
       "   line_center    line_type  line_center_index\n",
       "        um                                    \n",
       "     float64        str10          int64      \n",
       "----------------- ---------- -----------------\n",
       "8.190954773869347 absorption               163"
      ]
     },
     "execution_count": 21,
     "metadata": {},
     "output_type": "execute_result"
    }
   ],
   "source": [
    "lines[lines['line_type'] == 'absorption']  \n"
   ]
  },
  {
   "cell_type": "code",
   "execution_count": 25,
   "metadata": {},
   "outputs": [],
   "source": [
    "from specutils import SpectralRegion\n",
    "from specutils.fitting import estimate_line_parameters\n",
    "from specutils.manipulation import extract_region\n",
    "\n"
   ]
  },
  {
   "cell_type": "code",
   "execution_count": 32,
   "metadata": {},
   "outputs": [],
   "source": [
    "import numpy as np\n",
    "import pandas as pd\n",
    "import matplotlib.pyplot as plt\n",
    "from astropy import units as u\n",
    "from specutils.spectra import Spectrum1D, SpectralRegion\n",
    "from specutils.fitting import fit_generic_continuum\n",
    "data = np.loadtxt('2500to10500Synthe100000resolution.txt')\n",
    "x = data[:, 0]\n",
    "y = data[:, 1]\n",
    "x1=x[0:1000]\n",
    "y1=y[0:1000]\n",
    "flux=y1*(u.erg / (u.cm ** 2 * u.s * u.AA))\n",
    "spectral_axis = x1*u.AA\n",
    "spectrum = Spectrum1D(flux, spectral_axis)\n",
    "sub_region = SpectralRegion(4*u.AA, 5*u.AA)\n",
    "sub_spectrum = extract_region(spectrum, sub_region)"
   ]
  },
  {
   "cell_type": "code",
   "execution_count": 33,
   "metadata": {},
   "outputs": [
    {
     "name": "stdout",
     "output_type": "stream",
     "text": [
      "Model: RickerWavelet1D\n",
      "Inputs: ('x',)\n",
      "Outputs: ('y',)\n",
      "Model set size: 1\n",
      "Parameters:\n",
      "          amplitude               x_0               sigma      \n",
      "    erg / (Angstrom cm2 s)      Angstrom           Angstrom    \n",
      "    ---------------------- ------------------ -----------------\n",
      "                 2850000.0 3152.2877420339046 5.789402173913004\n"
     ]
    }
   ],
   "source": [
    "from specutils import SpectralRegion\n",
    "from specutils.fitting import estimate_line_parameters\n",
    "from specutils.manipulation import extract_region\n",
    "from specutils.analysis import centroid, fwhm\n",
    "\n",
    "sub_region = SpectralRegion(3000*u.um, 10500*u.um)\n",
    "sub_spectrum = extract_region(spectrum, sub_region)\n",
    "\n",
    "ricker = models.RickerWavelet1D()\n",
    "ricker.amplitude.estimator = lambda s: max(s.flux)\n",
    "ricker.x_0.estimator = lambda s: centroid(s, region=None)\n",
    "ricker.sigma.estimator = lambda s: fwhm(s)\n",
    "\n",
    "print(estimate_line_parameters(spectrum, ricker))  \n",
    "\n",
    "\n"
   ]
  },
  {
   "cell_type": "code",
   "execution_count": 34,
   "metadata": {},
   "outputs": [],
   "source": [
    "#fit_lines\n",
    "from specutils.fitting import fit_lines"
   ]
  },
  {
   "cell_type": "code",
   "execution_count": null,
   "metadata": {},
   "outputs": [],
   "source": [
    "import numpy as np\n",
    "import pandas as pd\n",
    "import matplotlib.pyplot as plt\n",
    "from astropy import units as u\n",
    "from specutils.spectra import Spectrum1D, SpectralRegion\n",
    "from specutils.fitting import fit_generic_continuum\n",
    "data = np.loadtxt('HD165024.txt')\n",
    "x = data[:, 0]\n",
    "y = data[:, 1]\n",
    "flux=y*(u.erg / (u.cm ** 2 * u.s * u.AA))\n",
    "spectral_axis = x*u.AA\n",
    "spectrum = Spectrum1D(flux, spectral_axis)\n",
    "from matplotlib import pyplot as plt\n",
    "plt.plot(spectrum.spectral_axis, spectrum.flux) \n",
    "plt.xlabel('Spectral Axis ({})'.format(spectrum.spectral_axis.unit)) \n",
    "plt.ylabel('Flux Axis({})'.format(spectrum.flux.unit)) \n",
    "plt.grid(True) "
   ]
  }
 ],
 "metadata": {
  "kernelspec": {
   "display_name": "Python 3",
   "language": "python",
   "name": "python3"
  },
  "language_info": {
   "codemirror_mode": {
    "name": "ipython",
    "version": 3
   },
   "file_extension": ".py",
   "mimetype": "text/x-python",
   "name": "python",
   "nbconvert_exporter": "python",
   "pygments_lexer": "ipython3",
   "version": "3.7.3"
  }
 },
 "nbformat": 4,
 "nbformat_minor": 2
}
